{
 "cells": [
  {
   "cell_type": "code",
   "id": "initial_id",
   "metadata": {
    "collapsed": true,
    "ExecuteTime": {
     "end_time": "2025-05-04T20:21:29.391784Z",
     "start_time": "2025-05-04T20:21:26.402860Z"
    }
   },
   "source": [
    "from unsloth import FastLanguageModel\n",
    "import torch\n",
    "\n",
    "MODEL = 'unsloth/Qwen3-14B'\n",
    "\n",
    "model, tokenizer = FastLanguageModel.from_pretrained(\n",
    "    model_name=MODEL,\n",
    "    max_seq_length=2048,\n",
    "    dtype=None,\n",
    "    load_in_4bit=True,\n",
    "    full_finetuning=False,\n",
    ")\n",
    "\n",
    "model = FastLanguageModel.get_peft_model(\n",
    "    model,\n",
    "    target_modules=['q_proj', 'k_proj', 'v_proj', 'o_proj'],\n",
    "    use_gradient_checkpointing='unsloth',\n",
    "    r=16,\n",
    "    lora_alpha=4,\n",
    "    lora_dropout=0,\n",
    "    bias='none'\n",
    ")"
   ],
   "outputs": [
    {
     "ename": "NotImplementedError",
     "evalue": "Unsloth: No NVIDIA GPU found? Unsloth currently only supports GPUs!",
     "output_type": "error",
     "traceback": [
      "\u001B[31m---------------------------------------------------------------------------\u001B[39m",
      "\u001B[31mNotImplementedError\u001B[39m                       Traceback (most recent call last)",
      "\u001B[36mCell\u001B[39m\u001B[36m \u001B[39m\u001B[32mIn[1]\u001B[39m\u001B[32m, line 1\u001B[39m\n\u001B[32m----> \u001B[39m\u001B[32m1\u001B[39m \u001B[38;5;28;01mfrom\u001B[39;00m\u001B[38;5;250m \u001B[39m\u001B[34;01munsloth\u001B[39;00m\u001B[38;5;250m \u001B[39m\u001B[38;5;28;01mimport\u001B[39;00m FastLanguageModel\n\u001B[32m      2\u001B[39m \u001B[38;5;28;01mimport\u001B[39;00m\u001B[38;5;250m \u001B[39m\u001B[34;01mtorch\u001B[39;00m\n\u001B[32m      4\u001B[39m MODEL = \u001B[33m'\u001B[39m\u001B[33munsloth/Qwen3-14B\u001B[39m\u001B[33m'\u001B[39m\n",
      "\u001B[36mFile \u001B[39m\u001B[32m~\\PycharmProjects\\pythom-samples\\.venv\\Lib\\site-packages\\unsloth\\__init__.py:93\u001B[39m\n\u001B[32m     91\u001B[39m \u001B[38;5;66;03m# First check if CUDA is available ie a NVIDIA GPU is seen\u001B[39;00m\n\u001B[32m     92\u001B[39m \u001B[38;5;28;01mif\u001B[39;00m \u001B[38;5;129;01mnot\u001B[39;00m torch.cuda.is_available():\n\u001B[32m---> \u001B[39m\u001B[32m93\u001B[39m     \u001B[38;5;28;01mraise\u001B[39;00m \u001B[38;5;167;01mNotImplementedError\u001B[39;00m(\u001B[33m\"\u001B[39m\u001B[33mUnsloth: No NVIDIA GPU found? Unsloth currently only supports GPUs!\u001B[39m\u001B[33m\"\u001B[39m)\n\u001B[32m     95\u001B[39m \u001B[38;5;66;03m# Fix Xformers performance issues since 0.0.25\u001B[39;00m\n\u001B[32m     96\u001B[39m \u001B[38;5;28;01mimport\u001B[39;00m\u001B[38;5;250m \u001B[39m\u001B[34;01mimportlib\u001B[39;00m\u001B[34;01m.\u001B[39;00m\u001B[34;01mutil\u001B[39;00m\n",
      "\u001B[31mNotImplementedError\u001B[39m: Unsloth: No NVIDIA GPU found? Unsloth currently only supports GPUs!"
     ]
    }
   ],
   "execution_count": 1
  },
  {
   "metadata": {},
   "cell_type": "markdown",
   "source": "Load reasoning data",
   "id": "2281f3b979fa3f14"
  },
  {
   "metadata": {},
   "cell_type": "code",
   "outputs": [],
   "execution_count": null,
   "source": [
    "from datasets import load_dataset\n",
    "\n",
    "name = 'unsloth/OpenMathReasoning-mini'\n",
    "reasoning_data = load_dataset(name, split='cot')"
   ],
   "id": "d6653ce28e307c6a"
  },
  {
   "metadata": {},
   "cell_type": "markdown",
   "source": "Load non-reasoning data",
   "id": "9b41be68cffedefb"
  },
  {
   "metadata": {},
   "cell_type": "code",
   "outputs": [],
   "execution_count": null,
   "source": [
    "from datasets import load_dataset\n",
    "\n",
    "name = 'mlabonne/FineTome-100k'\n",
    "non_reasoning_data = load_dataset(name, split='train')"
   ],
   "id": "cace1c40a1953c80"
  },
  {
   "metadata": {},
   "cell_type": "markdown",
   "source": "Prepare reasoning data",
   "id": "82f3746883cb23c7"
  },
  {
   "metadata": {},
   "cell_type": "code",
   "outputs": [],
   "execution_count": null,
   "source": [
    "def generate_conv(examples):\n",
    "    problems = examples['problem']\n",
    "    solutions = examples['generated_solution']\n",
    "    conversations = []\n",
    "\n",
    "    for prob, sol in zip(problems, solutions):\n",
    "        conversations.append([\n",
    "            {'role': 'user', 'content': prob},\n",
    "            {'role': 'assistant', 'content': sol},\n",
    "        ])\n",
    "\n",
    "    return conversations\n",
    "\n",
    "\n",
    "reasoning_conv = generate_conv(reasoning_data)"
   ],
   "id": "35978b5c0802965b"
  },
  {
   "metadata": {},
   "cell_type": "markdown",
   "source": "Prepare non-reasoning data",
   "id": "7bd3bcf8cee396ef"
  },
  {
   "metadata": {},
   "cell_type": "code",
   "outputs": [],
   "execution_count": null,
   "source": [
    "from unsloth.chat_templates import standardize_sharegpt\n",
    "\n",
    "dataset = standardize_sharegpt(non_reasoning_data)\n",
    "non_reasoning_conv = tokenizer.apply_chat_template(dataset['conversation'])"
   ],
   "id": "3f015a38a5e840b2"
  },
  {
   "metadata": {},
   "cell_type": "markdown",
   "source": "Define trainer",
   "id": "4424ceffb6bd5a27"
  },
  {
   "metadata": {},
   "cell_type": "code",
   "outputs": [],
   "execution_count": null,
   "source": [
    "from trl import SFTTrainer, SFTConfig\n",
    "\n",
    "trainer = SFTTrainer(\n",
    "    model=model,\n",
    "    tokenizer=tokenizer,\n",
    "    train_dataset=dataset,\n",
    "    # ...\n",
    "    args=SFTConfig(\n",
    "        per_device_train_batch_size=2,\n",
    "        gradient_accumulation_steps=4,\n",
    "        max_steps=60,\n",
    "        learning_rate=2e-4,\n",
    "        # ...\n",
    "        optim='adamw_8bit',\n",
    "        weight_decay=0.01,\n",
    "    )\n",
    ")"
   ],
   "id": "7cd5a5450bde546"
  },
  {
   "metadata": {},
   "cell_type": "markdown",
   "source": "Train",
   "id": "2e40f94ff8687c8b"
  },
  {
   "metadata": {},
   "cell_type": "code",
   "outputs": [],
   "execution_count": null,
   "source": "trainer_stats = trainer.train()",
   "id": "4f3105e08cf1b92f"
  }
 ],
 "metadata": {
  "kernelspec": {
   "display_name": "Python 3",
   "language": "python",
   "name": "python3"
  },
  "language_info": {
   "codemirror_mode": {
    "name": "ipython",
    "version": 2
   },
   "file_extension": ".py",
   "mimetype": "text/x-python",
   "name": "python",
   "nbconvert_exporter": "python",
   "pygments_lexer": "ipython2",
   "version": "2.7.6"
  }
 },
 "nbformat": 4,
 "nbformat_minor": 5
}
