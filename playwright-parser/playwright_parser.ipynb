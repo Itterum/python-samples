{
 "cells": [
  {
   "metadata": {},
   "cell_type": "markdown",
   "source": "Run playwright scraper",
   "id": "ed5be0378defd4ee"
  },
  {
   "metadata": {
    "ExecuteTime": {
     "end_time": "2025-05-03T10:13:06.336033Z",
     "start_time": "2025-05-03T10:12:58.103291Z"
    }
   },
   "cell_type": "code",
   "source": [
    "import subprocess\n",
    "\n",
    "subprocess.run(['python', 'runner.py'])"
   ],
   "id": "8c195412b4c38036",
   "outputs": [
    {
     "data": {
      "text/plain": [
       "CompletedProcess(args=['python', 'runner.py'], returncode=0)"
      ]
     },
     "execution_count": 15,
     "metadata": {},
     "output_type": "execute_result"
    }
   ],
   "execution_count": 15
  },
  {
   "metadata": {},
   "cell_type": "markdown",
   "source": "Run stats by data",
   "id": "ff01920d49f266f6"
  },
  {
   "cell_type": "code",
   "id": "aefa5a66eb88dd37",
   "metadata": {
    "ExecuteTime": {
     "end_time": "2025-05-03T10:13:06.459160Z",
     "start_time": "2025-05-03T10:13:06.369792Z"
    }
   },
   "source": [
    "import pandas as pd\n",
    "from IPython.display import display, HTML\n",
    "import json\n",
    "\n",
    "with open(\"github_trending.json\", \"r\", encoding=\"utf-8\") as f:\n",
    "    data = json.load(f)\n",
    "\n",
    "df = pd.DataFrame(data)\n",
    "\n",
    "grouped = dict(tuple(df.groupby(\"Language\")))\n",
    "\n",
    "for language, table in grouped.items():\n",
    "    display(HTML(f\"<h2>{language}</h2>\"))\n",
    "    display(table.sort_values(by=\"Stars (All)\", ascending=False).reset_index(drop=True))\n"
   ],
   "outputs": [
    {
     "data": {
      "text/plain": [
       "<IPython.core.display.HTML object>"
      ],
      "text/html": [
       "<h2>Batchfile</h2>"
      ]
     },
     "metadata": {},
     "output_type": "display_data"
    },
    {
     "data": {
      "text/plain": [
       "                               Title  \\\n",
       "0  Flowseal / zapret-discord-youtube   \n",
       "\n",
       "                                                 URL Description   Language  \\\n",
       "0  https://github.com/Flowseal/zapret-discord-you...              Batchfile   \n",
       "\n",
       "   Stars (All)  Stars (Today)  Forks                    Collected Date  \n",
       "0        12589             34    838  2025-05-03T13:13:06.188946+03:00  "
      ],
      "text/html": [
       "<div>\n",
       "<style scoped>\n",
       "    .dataframe tbody tr th:only-of-type {\n",
       "        vertical-align: middle;\n",
       "    }\n",
       "\n",
       "    .dataframe tbody tr th {\n",
       "        vertical-align: top;\n",
       "    }\n",
       "\n",
       "    .dataframe thead th {\n",
       "        text-align: right;\n",
       "    }\n",
       "</style>\n",
       "<table border=\"1\" class=\"dataframe\">\n",
       "  <thead>\n",
       "    <tr style=\"text-align: right;\">\n",
       "      <th></th>\n",
       "      <th>Title</th>\n",
       "      <th>URL</th>\n",
       "      <th>Description</th>\n",
       "      <th>Language</th>\n",
       "      <th>Stars (All)</th>\n",
       "      <th>Stars (Today)</th>\n",
       "      <th>Forks</th>\n",
       "      <th>Collected Date</th>\n",
       "    </tr>\n",
       "  </thead>\n",
       "  <tbody>\n",
       "    <tr>\n",
       "      <th>0</th>\n",
       "      <td>Flowseal / zapret-discord-youtube</td>\n",
       "      <td>https://github.com/Flowseal/zapret-discord-you...</td>\n",
       "      <td></td>\n",
       "      <td>Batchfile</td>\n",
       "      <td>12589</td>\n",
       "      <td>34</td>\n",
       "      <td>838</td>\n",
       "      <td>2025-05-03T13:13:06.188946+03:00</td>\n",
       "    </tr>\n",
       "  </tbody>\n",
       "</table>\n",
       "</div>"
      ]
     },
     "metadata": {},
     "output_type": "display_data"
    },
    {
     "data": {
      "text/plain": [
       "<IPython.core.display.HTML object>"
      ],
      "text/html": [
       "<h2>C++</h2>"
      ]
     },
     "metadata": {},
     "output_type": "display_data"
    },
    {
     "data": {
      "text/plain": [
       "                        Title                                          URL  \\\n",
       "0           bitcoin / bitcoin           https://github.com/bitcoin/bitcoin   \n",
       "1  Atmosphere-NX / Atmosphere  https://github.com/Atmosphere-NX/Atmosphere   \n",
       "\n",
       "                                         Description Language  Stars (All)  \\\n",
       "0              Bitcoin Core integration/staging tree      C++        83324   \n",
       "1  Atmosphère is a work-in-progress customized fi...      C++        15865   \n",
       "\n",
       "   Stars (Today)  Forks                    Collected Date  \n",
       "0             36  37162  2025-05-03T13:13:06.215683+03:00  \n",
       "1             47   1269  2025-05-03T13:13:06.215247+03:00  "
      ],
      "text/html": [
       "<div>\n",
       "<style scoped>\n",
       "    .dataframe tbody tr th:only-of-type {\n",
       "        vertical-align: middle;\n",
       "    }\n",
       "\n",
       "    .dataframe tbody tr th {\n",
       "        vertical-align: top;\n",
       "    }\n",
       "\n",
       "    .dataframe thead th {\n",
       "        text-align: right;\n",
       "    }\n",
       "</style>\n",
       "<table border=\"1\" class=\"dataframe\">\n",
       "  <thead>\n",
       "    <tr style=\"text-align: right;\">\n",
       "      <th></th>\n",
       "      <th>Title</th>\n",
       "      <th>URL</th>\n",
       "      <th>Description</th>\n",
       "      <th>Language</th>\n",
       "      <th>Stars (All)</th>\n",
       "      <th>Stars (Today)</th>\n",
       "      <th>Forks</th>\n",
       "      <th>Collected Date</th>\n",
       "    </tr>\n",
       "  </thead>\n",
       "  <tbody>\n",
       "    <tr>\n",
       "      <th>0</th>\n",
       "      <td>bitcoin / bitcoin</td>\n",
       "      <td>https://github.com/bitcoin/bitcoin</td>\n",
       "      <td>Bitcoin Core integration/staging tree</td>\n",
       "      <td>C++</td>\n",
       "      <td>83324</td>\n",
       "      <td>36</td>\n",
       "      <td>37162</td>\n",
       "      <td>2025-05-03T13:13:06.215683+03:00</td>\n",
       "    </tr>\n",
       "    <tr>\n",
       "      <th>1</th>\n",
       "      <td>Atmosphere-NX / Atmosphere</td>\n",
       "      <td>https://github.com/Atmosphere-NX/Atmosphere</td>\n",
       "      <td>Atmosphère is a work-in-progress customized fi...</td>\n",
       "      <td>C++</td>\n",
       "      <td>15865</td>\n",
       "      <td>47</td>\n",
       "      <td>1269</td>\n",
       "      <td>2025-05-03T13:13:06.215247+03:00</td>\n",
       "    </tr>\n",
       "  </tbody>\n",
       "</table>\n",
       "</div>"
      ]
     },
     "metadata": {},
     "output_type": "display_data"
    },
    {
     "data": {
      "text/plain": [
       "<IPython.core.display.HTML object>"
      ],
      "text/html": [
       "<h2>CMake</h2>"
      ]
     },
     "metadata": {},
     "output_type": "display_data"
    },
    {
     "data": {
      "text/plain": [
       "                        Title                                          URL  \\\n",
       "0  TheRobotStudio / SO-ARM100  https://github.com/TheRobotStudio/SO-ARM100   \n",
       "\n",
       "             Description Language  Stars (All)  Stars (Today)  Forks  \\\n",
       "0  Standard Open Arm 100    CMake         1852             83    120   \n",
       "\n",
       "                     Collected Date  \n",
       "0  2025-05-03T13:13:06.218525+03:00  "
      ],
      "text/html": [
       "<div>\n",
       "<style scoped>\n",
       "    .dataframe tbody tr th:only-of-type {\n",
       "        vertical-align: middle;\n",
       "    }\n",
       "\n",
       "    .dataframe tbody tr th {\n",
       "        vertical-align: top;\n",
       "    }\n",
       "\n",
       "    .dataframe thead th {\n",
       "        text-align: right;\n",
       "    }\n",
       "</style>\n",
       "<table border=\"1\" class=\"dataframe\">\n",
       "  <thead>\n",
       "    <tr style=\"text-align: right;\">\n",
       "      <th></th>\n",
       "      <th>Title</th>\n",
       "      <th>URL</th>\n",
       "      <th>Description</th>\n",
       "      <th>Language</th>\n",
       "      <th>Stars (All)</th>\n",
       "      <th>Stars (Today)</th>\n",
       "      <th>Forks</th>\n",
       "      <th>Collected Date</th>\n",
       "    </tr>\n",
       "  </thead>\n",
       "  <tbody>\n",
       "    <tr>\n",
       "      <th>0</th>\n",
       "      <td>TheRobotStudio / SO-ARM100</td>\n",
       "      <td>https://github.com/TheRobotStudio/SO-ARM100</td>\n",
       "      <td>Standard Open Arm 100</td>\n",
       "      <td>CMake</td>\n",
       "      <td>1852</td>\n",
       "      <td>83</td>\n",
       "      <td>120</td>\n",
       "      <td>2025-05-03T13:13:06.218525+03:00</td>\n",
       "    </tr>\n",
       "  </tbody>\n",
       "</table>\n",
       "</div>"
      ]
     },
     "metadata": {},
     "output_type": "display_data"
    },
    {
     "data": {
      "text/plain": [
       "<IPython.core.display.HTML object>"
      ],
      "text/html": [
       "<h2>Go</h2>"
      ]
     },
     "metadata": {},
     "output_type": "display_data"
    },
    {
     "data": {
      "text/plain": [
       "           Title                             URL  \\\n",
       "0  DiceDB / dice  https://github.com/DiceDB/dice   \n",
       "\n",
       "                                         Description Language  Stars (All)  \\\n",
       "0  DiceDB is an open-source, fast, reactive, in-m...       Go        10341   \n",
       "\n",
       "   Stars (Today)  Forks                    Collected Date  \n",
       "0             21   1362  2025-05-03T13:13:06.215422+03:00  "
      ],
      "text/html": [
       "<div>\n",
       "<style scoped>\n",
       "    .dataframe tbody tr th:only-of-type {\n",
       "        vertical-align: middle;\n",
       "    }\n",
       "\n",
       "    .dataframe tbody tr th {\n",
       "        vertical-align: top;\n",
       "    }\n",
       "\n",
       "    .dataframe thead th {\n",
       "        text-align: right;\n",
       "    }\n",
       "</style>\n",
       "<table border=\"1\" class=\"dataframe\">\n",
       "  <thead>\n",
       "    <tr style=\"text-align: right;\">\n",
       "      <th></th>\n",
       "      <th>Title</th>\n",
       "      <th>URL</th>\n",
       "      <th>Description</th>\n",
       "      <th>Language</th>\n",
       "      <th>Stars (All)</th>\n",
       "      <th>Stars (Today)</th>\n",
       "      <th>Forks</th>\n",
       "      <th>Collected Date</th>\n",
       "    </tr>\n",
       "  </thead>\n",
       "  <tbody>\n",
       "    <tr>\n",
       "      <th>0</th>\n",
       "      <td>DiceDB / dice</td>\n",
       "      <td>https://github.com/DiceDB/dice</td>\n",
       "      <td>DiceDB is an open-source, fast, reactive, in-m...</td>\n",
       "      <td>Go</td>\n",
       "      <td>10341</td>\n",
       "      <td>21</td>\n",
       "      <td>1362</td>\n",
       "      <td>2025-05-03T13:13:06.215422+03:00</td>\n",
       "    </tr>\n",
       "  </tbody>\n",
       "</table>\n",
       "</div>"
      ]
     },
     "metadata": {},
     "output_type": "display_data"
    },
    {
     "data": {
      "text/plain": [
       "<IPython.core.display.HTML object>"
      ],
      "text/html": [
       "<h2>Java</h2>"
      ]
     },
     "metadata": {},
     "output_type": "display_data"
    },
    {
     "data": {
      "text/plain": [
       "                   Title                                     URL  \\\n",
       "0  aws / aws-sdk-java-v2  https://github.com/aws/aws-sdk-java-v2   \n",
       "\n",
       "                                 Description Language  Stars (All)  \\\n",
       "0  The official AWS SDK for Java - Version 2     Java         2350   \n",
       "\n",
       "   Stars (Today)  Forks                    Collected Date  \n",
       "0             15    904  2025-05-03T13:13:06.216601+03:00  "
      ],
      "text/html": [
       "<div>\n",
       "<style scoped>\n",
       "    .dataframe tbody tr th:only-of-type {\n",
       "        vertical-align: middle;\n",
       "    }\n",
       "\n",
       "    .dataframe tbody tr th {\n",
       "        vertical-align: top;\n",
       "    }\n",
       "\n",
       "    .dataframe thead th {\n",
       "        text-align: right;\n",
       "    }\n",
       "</style>\n",
       "<table border=\"1\" class=\"dataframe\">\n",
       "  <thead>\n",
       "    <tr style=\"text-align: right;\">\n",
       "      <th></th>\n",
       "      <th>Title</th>\n",
       "      <th>URL</th>\n",
       "      <th>Description</th>\n",
       "      <th>Language</th>\n",
       "      <th>Stars (All)</th>\n",
       "      <th>Stars (Today)</th>\n",
       "      <th>Forks</th>\n",
       "      <th>Collected Date</th>\n",
       "    </tr>\n",
       "  </thead>\n",
       "  <tbody>\n",
       "    <tr>\n",
       "      <th>0</th>\n",
       "      <td>aws / aws-sdk-java-v2</td>\n",
       "      <td>https://github.com/aws/aws-sdk-java-v2</td>\n",
       "      <td>The official AWS SDK for Java - Version 2</td>\n",
       "      <td>Java</td>\n",
       "      <td>2350</td>\n",
       "      <td>15</td>\n",
       "      <td>904</td>\n",
       "      <td>2025-05-03T13:13:06.216601+03:00</td>\n",
       "    </tr>\n",
       "  </tbody>\n",
       "</table>\n",
       "</div>"
      ]
     },
     "metadata": {},
     "output_type": "display_data"
    },
    {
     "data": {
      "text/plain": [
       "<IPython.core.display.HTML object>"
      ],
      "text/html": [
       "<h2>JavaScript</h2>"
      ]
     },
     "metadata": {},
     "output_type": "display_data"
    },
    {
     "data": {
      "text/plain": [
       "                     Title                                       URL  \\\n",
       "0  open-webui / open-webui  https://github.com/open-webui/open-webui   \n",
       "\n",
       "                                         Description    Language  Stars (All)  \\\n",
       "0  User-friendly AI Interface (Supports Ollama, O...  JavaScript        92903   \n",
       "\n",
       "   Stars (Today)  Forks                    Collected Date  \n",
       "0            376  11768  2025-05-03T13:13:06.215589+03:00  "
      ],
      "text/html": [
       "<div>\n",
       "<style scoped>\n",
       "    .dataframe tbody tr th:only-of-type {\n",
       "        vertical-align: middle;\n",
       "    }\n",
       "\n",
       "    .dataframe tbody tr th {\n",
       "        vertical-align: top;\n",
       "    }\n",
       "\n",
       "    .dataframe thead th {\n",
       "        text-align: right;\n",
       "    }\n",
       "</style>\n",
       "<table border=\"1\" class=\"dataframe\">\n",
       "  <thead>\n",
       "    <tr style=\"text-align: right;\">\n",
       "      <th></th>\n",
       "      <th>Title</th>\n",
       "      <th>URL</th>\n",
       "      <th>Description</th>\n",
       "      <th>Language</th>\n",
       "      <th>Stars (All)</th>\n",
       "      <th>Stars (Today)</th>\n",
       "      <th>Forks</th>\n",
       "      <th>Collected Date</th>\n",
       "    </tr>\n",
       "  </thead>\n",
       "  <tbody>\n",
       "    <tr>\n",
       "      <th>0</th>\n",
       "      <td>open-webui / open-webui</td>\n",
       "      <td>https://github.com/open-webui/open-webui</td>\n",
       "      <td>User-friendly AI Interface (Supports Ollama, O...</td>\n",
       "      <td>JavaScript</td>\n",
       "      <td>92903</td>\n",
       "      <td>376</td>\n",
       "      <td>11768</td>\n",
       "      <td>2025-05-03T13:13:06.215589+03:00</td>\n",
       "    </tr>\n",
       "  </tbody>\n",
       "</table>\n",
       "</div>"
      ]
     },
     "metadata": {},
     "output_type": "display_data"
    },
    {
     "data": {
      "text/plain": [
       "<IPython.core.display.HTML object>"
      ],
      "text/html": [
       "<h2>Python</h2>"
      ]
     },
     "metadata": {},
     "output_type": "display_data"
    },
    {
     "data": {
      "text/plain": [
       "                                Title  \\\n",
       "0  donnemartin / system-design-primer   \n",
       "1           hacksider / Deep-Live-Cam   \n",
       "2                 QwenLM / Qwen-Agent   \n",
       "3              aipotheosis-labs / aci   \n",
       "\n",
       "                                                 URL  \\\n",
       "0  https://github.com/donnemartin/system-design-p...   \n",
       "1         https://github.com/hacksider/Deep-Live-Cam   \n",
       "2               https://github.com/QwenLM/Qwen-Agent   \n",
       "3            https://github.com/aipotheosis-labs/aci   \n",
       "\n",
       "                                         Description Language  Stars (All)  \\\n",
       "0  Learn how to design large-scale systems. Prep ...   Python       297868   \n",
       "1  real time face swap and one-click video deepfa...   Python        58225   \n",
       "2  Agent framework and applications built upon Qw...   Python         7770   \n",
       "3  ACI.dev is the open source platform that conne...   Python         1624   \n",
       "\n",
       "   Stars (Today)  Forks                    Collected Date  \n",
       "0            122  49501  2025-05-03T13:13:06.215535+03:00  \n",
       "1           1524   8234  2025-05-03T13:13:06.134801+03:00  \n",
       "2            192    660  2025-05-03T13:13:06.215478+03:00  \n",
       "3            244    111  2025-05-03T13:13:06.214720+03:00  "
      ],
      "text/html": [
       "<div>\n",
       "<style scoped>\n",
       "    .dataframe tbody tr th:only-of-type {\n",
       "        vertical-align: middle;\n",
       "    }\n",
       "\n",
       "    .dataframe tbody tr th {\n",
       "        vertical-align: top;\n",
       "    }\n",
       "\n",
       "    .dataframe thead th {\n",
       "        text-align: right;\n",
       "    }\n",
       "</style>\n",
       "<table border=\"1\" class=\"dataframe\">\n",
       "  <thead>\n",
       "    <tr style=\"text-align: right;\">\n",
       "      <th></th>\n",
       "      <th>Title</th>\n",
       "      <th>URL</th>\n",
       "      <th>Description</th>\n",
       "      <th>Language</th>\n",
       "      <th>Stars (All)</th>\n",
       "      <th>Stars (Today)</th>\n",
       "      <th>Forks</th>\n",
       "      <th>Collected Date</th>\n",
       "    </tr>\n",
       "  </thead>\n",
       "  <tbody>\n",
       "    <tr>\n",
       "      <th>0</th>\n",
       "      <td>donnemartin / system-design-primer</td>\n",
       "      <td>https://github.com/donnemartin/system-design-p...</td>\n",
       "      <td>Learn how to design large-scale systems. Prep ...</td>\n",
       "      <td>Python</td>\n",
       "      <td>297868</td>\n",
       "      <td>122</td>\n",
       "      <td>49501</td>\n",
       "      <td>2025-05-03T13:13:06.215535+03:00</td>\n",
       "    </tr>\n",
       "    <tr>\n",
       "      <th>1</th>\n",
       "      <td>hacksider / Deep-Live-Cam</td>\n",
       "      <td>https://github.com/hacksider/Deep-Live-Cam</td>\n",
       "      <td>real time face swap and one-click video deepfa...</td>\n",
       "      <td>Python</td>\n",
       "      <td>58225</td>\n",
       "      <td>1524</td>\n",
       "      <td>8234</td>\n",
       "      <td>2025-05-03T13:13:06.134801+03:00</td>\n",
       "    </tr>\n",
       "    <tr>\n",
       "      <th>2</th>\n",
       "      <td>QwenLM / Qwen-Agent</td>\n",
       "      <td>https://github.com/QwenLM/Qwen-Agent</td>\n",
       "      <td>Agent framework and applications built upon Qw...</td>\n",
       "      <td>Python</td>\n",
       "      <td>7770</td>\n",
       "      <td>192</td>\n",
       "      <td>660</td>\n",
       "      <td>2025-05-03T13:13:06.215478+03:00</td>\n",
       "    </tr>\n",
       "    <tr>\n",
       "      <th>3</th>\n",
       "      <td>aipotheosis-labs / aci</td>\n",
       "      <td>https://github.com/aipotheosis-labs/aci</td>\n",
       "      <td>ACI.dev is the open source platform that conne...</td>\n",
       "      <td>Python</td>\n",
       "      <td>1624</td>\n",
       "      <td>244</td>\n",
       "      <td>111</td>\n",
       "      <td>2025-05-03T13:13:06.214720+03:00</td>\n",
       "    </tr>\n",
       "  </tbody>\n",
       "</table>\n",
       "</div>"
      ]
     },
     "metadata": {},
     "output_type": "display_data"
    },
    {
     "data": {
      "text/plain": [
       "<IPython.core.display.HTML object>"
      ],
      "text/html": [
       "<h2>Rust</h2>"
      ]
     },
     "metadata": {},
     "output_type": "display_data"
    },
    {
     "data": {
      "text/plain": [
       "                  Title                                    URL  \\\n",
       "0     unionlabs / union     https://github.com/unionlabs/union   \n",
       "1  juspay / hyperswitch  https://github.com/juspay/hyperswitch   \n",
       "\n",
       "                                         Description Language  Stars (All)  \\\n",
       "0  The trust-minimized, zero-knowledge bridging p...     Rust        56441   \n",
       "1  An open source payments switch written in Rust...     Rust        17460   \n",
       "\n",
       "   Stars (Today)  Forks                    Collected Date  \n",
       "0            375   2833  2025-05-03T13:13:06.215305+03:00  \n",
       "1            249   2087  2025-05-03T13:13:06.215186+03:00  "
      ],
      "text/html": [
       "<div>\n",
       "<style scoped>\n",
       "    .dataframe tbody tr th:only-of-type {\n",
       "        vertical-align: middle;\n",
       "    }\n",
       "\n",
       "    .dataframe tbody tr th {\n",
       "        vertical-align: top;\n",
       "    }\n",
       "\n",
       "    .dataframe thead th {\n",
       "        text-align: right;\n",
       "    }\n",
       "</style>\n",
       "<table border=\"1\" class=\"dataframe\">\n",
       "  <thead>\n",
       "    <tr style=\"text-align: right;\">\n",
       "      <th></th>\n",
       "      <th>Title</th>\n",
       "      <th>URL</th>\n",
       "      <th>Description</th>\n",
       "      <th>Language</th>\n",
       "      <th>Stars (All)</th>\n",
       "      <th>Stars (Today)</th>\n",
       "      <th>Forks</th>\n",
       "      <th>Collected Date</th>\n",
       "    </tr>\n",
       "  </thead>\n",
       "  <tbody>\n",
       "    <tr>\n",
       "      <th>0</th>\n",
       "      <td>unionlabs / union</td>\n",
       "      <td>https://github.com/unionlabs/union</td>\n",
       "      <td>The trust-minimized, zero-knowledge bridging p...</td>\n",
       "      <td>Rust</td>\n",
       "      <td>56441</td>\n",
       "      <td>375</td>\n",
       "      <td>2833</td>\n",
       "      <td>2025-05-03T13:13:06.215305+03:00</td>\n",
       "    </tr>\n",
       "    <tr>\n",
       "      <th>1</th>\n",
       "      <td>juspay / hyperswitch</td>\n",
       "      <td>https://github.com/juspay/hyperswitch</td>\n",
       "      <td>An open source payments switch written in Rust...</td>\n",
       "      <td>Rust</td>\n",
       "      <td>17460</td>\n",
       "      <td>249</td>\n",
       "      <td>2087</td>\n",
       "      <td>2025-05-03T13:13:06.215186+03:00</td>\n",
       "    </tr>\n",
       "  </tbody>\n",
       "</table>\n",
       "</div>"
      ]
     },
     "metadata": {},
     "output_type": "display_data"
    },
    {
     "data": {
      "text/plain": [
       "<IPython.core.display.HTML object>"
      ],
      "text/html": [
       "<h2>TypeScript</h2>"
      ]
     },
     "metadata": {},
     "output_type": "display_data"
    },
    {
     "data": {
      "text/plain": [
       "                                Title  \\\n",
       "0  wonderwhy-er / DesktopCommanderMCP   \n",
       "1               MODSetter / SurfSense   \n",
       "2                 cloudflare / agents   \n",
       "3               langwatch / langwatch   \n",
       "4  cloudflare / mcp-server-cloudflare   \n",
       "\n",
       "                                                 URL  \\\n",
       "0  https://github.com/wonderwhy-er/DesktopCommand...   \n",
       "1             https://github.com/MODSetter/SurfSense   \n",
       "2               https://github.com/cloudflare/agents   \n",
       "3             https://github.com/langwatch/langwatch   \n",
       "4  https://github.com/cloudflare/mcp-server-cloud...   \n",
       "\n",
       "                                         Description    Language  Stars (All)  \\\n",
       "0  This is MCP server for Claude that gives it te...  TypeScript         2364   \n",
       "1  Open Source Alternative to NotebookLM / Perple...  TypeScript         2060   \n",
       "2           Build and deploy AI Agents on Cloudflare  TypeScript         1830   \n",
       "3  The open LLM Ops platform - Traces, Analytics,...  TypeScript         1742   \n",
       "4                                                     TypeScript         1628   \n",
       "\n",
       "   Stars (Today)  Forks                    Collected Date  \n",
       "0             90    248  2025-05-03T13:13:06.215106+03:00  \n",
       "1             85    161  2025-05-03T13:13:06.214973+03:00  \n",
       "2             84    122  2025-05-03T13:13:06.215367+03:00  \n",
       "3             67    130  2025-05-03T13:13:06.215643+03:00  \n",
       "4             69    124  2025-05-03T13:13:06.183551+03:00  "
      ],
      "text/html": [
       "<div>\n",
       "<style scoped>\n",
       "    .dataframe tbody tr th:only-of-type {\n",
       "        vertical-align: middle;\n",
       "    }\n",
       "\n",
       "    .dataframe tbody tr th {\n",
       "        vertical-align: top;\n",
       "    }\n",
       "\n",
       "    .dataframe thead th {\n",
       "        text-align: right;\n",
       "    }\n",
       "</style>\n",
       "<table border=\"1\" class=\"dataframe\">\n",
       "  <thead>\n",
       "    <tr style=\"text-align: right;\">\n",
       "      <th></th>\n",
       "      <th>Title</th>\n",
       "      <th>URL</th>\n",
       "      <th>Description</th>\n",
       "      <th>Language</th>\n",
       "      <th>Stars (All)</th>\n",
       "      <th>Stars (Today)</th>\n",
       "      <th>Forks</th>\n",
       "      <th>Collected Date</th>\n",
       "    </tr>\n",
       "  </thead>\n",
       "  <tbody>\n",
       "    <tr>\n",
       "      <th>0</th>\n",
       "      <td>wonderwhy-er / DesktopCommanderMCP</td>\n",
       "      <td>https://github.com/wonderwhy-er/DesktopCommand...</td>\n",
       "      <td>This is MCP server for Claude that gives it te...</td>\n",
       "      <td>TypeScript</td>\n",
       "      <td>2364</td>\n",
       "      <td>90</td>\n",
       "      <td>248</td>\n",
       "      <td>2025-05-03T13:13:06.215106+03:00</td>\n",
       "    </tr>\n",
       "    <tr>\n",
       "      <th>1</th>\n",
       "      <td>MODSetter / SurfSense</td>\n",
       "      <td>https://github.com/MODSetter/SurfSense</td>\n",
       "      <td>Open Source Alternative to NotebookLM / Perple...</td>\n",
       "      <td>TypeScript</td>\n",
       "      <td>2060</td>\n",
       "      <td>85</td>\n",
       "      <td>161</td>\n",
       "      <td>2025-05-03T13:13:06.214973+03:00</td>\n",
       "    </tr>\n",
       "    <tr>\n",
       "      <th>2</th>\n",
       "      <td>cloudflare / agents</td>\n",
       "      <td>https://github.com/cloudflare/agents</td>\n",
       "      <td>Build and deploy AI Agents on Cloudflare</td>\n",
       "      <td>TypeScript</td>\n",
       "      <td>1830</td>\n",
       "      <td>84</td>\n",
       "      <td>122</td>\n",
       "      <td>2025-05-03T13:13:06.215367+03:00</td>\n",
       "    </tr>\n",
       "    <tr>\n",
       "      <th>3</th>\n",
       "      <td>langwatch / langwatch</td>\n",
       "      <td>https://github.com/langwatch/langwatch</td>\n",
       "      <td>The open LLM Ops platform - Traces, Analytics,...</td>\n",
       "      <td>TypeScript</td>\n",
       "      <td>1742</td>\n",
       "      <td>67</td>\n",
       "      <td>130</td>\n",
       "      <td>2025-05-03T13:13:06.215643+03:00</td>\n",
       "    </tr>\n",
       "    <tr>\n",
       "      <th>4</th>\n",
       "      <td>cloudflare / mcp-server-cloudflare</td>\n",
       "      <td>https://github.com/cloudflare/mcp-server-cloud...</td>\n",
       "      <td></td>\n",
       "      <td>TypeScript</td>\n",
       "      <td>1628</td>\n",
       "      <td>69</td>\n",
       "      <td>124</td>\n",
       "      <td>2025-05-03T13:13:06.183551+03:00</td>\n",
       "    </tr>\n",
       "  </tbody>\n",
       "</table>\n",
       "</div>"
      ]
     },
     "metadata": {},
     "output_type": "display_data"
    }
   ],
   "execution_count": 16
  }
 ],
 "metadata": {
  "kernelspec": {
   "display_name": "Python 3 (ipykernel)",
   "language": "python",
   "name": "python3"
  },
  "language_info": {
   "codemirror_mode": {
    "name": "ipython",
    "version": 3
   },
   "file_extension": ".py",
   "mimetype": "text/x-python",
   "name": "python",
   "nbconvert_exporter": "python",
   "pygments_lexer": "ipython3",
   "version": "3.13.3"
  }
 },
 "nbformat": 4,
 "nbformat_minor": 5
}
